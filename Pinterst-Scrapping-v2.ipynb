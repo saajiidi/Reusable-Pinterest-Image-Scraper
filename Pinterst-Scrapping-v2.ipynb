{
 "cells": [
  {
   "cell_type": "code",
   "execution_count": 1,
   "metadata": {},
   "outputs": [],
   "source": [
    "from selenium import webdriver\n",
    "from selenium.webdriver.common.by import By\n",
    "import time\n",
    "import os\n",
    "import requests\n",
    "\n"
   ]
  },
  {
   "cell_type": "code",
   "execution_count": 2,
   "metadata": {},
   "outputs": [],
   "source": [
    "def download_image(url, folder_name, image_name):\n",
    "    \"\"\"Download an image from a given URL and save it to a folder.\"\"\"\n",
    "    try:\n",
    "        response = requests.get(url)\n",
    "        if response.status_code == 200:\n",
    "            with open(os.path.join(folder_name, image_name), \"wb\") as file:\n",
    "                file.write(response.content)\n",
    "            print(f\"Downloaded: {image_name}\")\n",
    "        else:\n",
    "            print(f\"Failed to download: {url}\")\n",
    "    except Exception as e:\n",
    "        print(f\"Error downloading {url}: {e}\")\n",
    "\n"
   ]
  },
  {
   "cell_type": "code",
   "execution_count": null,
   "metadata": {},
   "outputs": [],
   "source": [
    "def pinterest_image_search_selenium(query, num_images=10, save_folder=\"pinterest_downloads\"):\n",
    "    \"\"\"Perform a Pinterest search using Selenium and download images.\"\"\"\n",
    "    if not os.path.exists(save_folder):\n",
    "        os.makedirs(save_folder)\n",
    "\n",
    "    # Set up Selenium WebDriver (ensure you have the correct driver installed)\n",
    "    driver = webdriver.Chrome()  # Or use another browser driver\n",
    "    driver.get(f\"https://www.pinterest.com/search/pins/?q={query}\")\n",
    "\n",
    "    # Wait for the page to load\n",
    "    time.sleep(5)\n",
    "\n",
    "    # Scroll to load more images (optional)\n",
    "    for _ in range(2):\n",
    "        driver.execute_script(\"window.scrollTo(0, document.body.scrollHeight);\")\n",
    "        time.sleep(2)\n",
    "\n",
    "    # Find image elements\n",
    "    images = driver.find_elements(By.TAG_NAME, \"img\")\n",
    "\n",
    "    for i, img in enumerate(images[:num_images]):\n",
    "        img_url = img.get_attribute(\"src\")\n",
    "        if img_url and img_url.startswith(\"http\"):\n",
    "            image_name = f\"{query}_{i+1}.jpg\"\n",
    "            download_image(img_url, save_folder, image_name)\n",
    "\n",
    "    driver.quit()\n",
    "\n",
    "if __name__ == \"__main__\":\n",
    "    query = input(\"Enter search query: \")\n",
    "    num_images = int(input(\"Enter number of images to download: \"))\n",
    "    pinterest_image_search_selenium(query, num_images)"
   ]
  }
 ],
 "metadata": {
  "kernelspec": {
   "display_name": "Python 3",
   "language": "python",
   "name": "python3"
  },
  "language_info": {
   "codemirror_mode": {
    "name": "ipython",
    "version": 3
   },
   "file_extension": ".py",
   "mimetype": "text/x-python",
   "name": "python",
   "nbconvert_exporter": "python",
   "pygments_lexer": "ipython3",
   "version": "3.12.5"
  }
 },
 "nbformat": 4,
 "nbformat_minor": 2
}
